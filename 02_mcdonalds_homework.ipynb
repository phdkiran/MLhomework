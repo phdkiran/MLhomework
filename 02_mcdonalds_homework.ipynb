{
 "cells": [
  {
   "cell_type": "markdown",
   "metadata": {},
   "source": [
    "# Homework with McDonald's sentiment data"
   ]
  },
  {
   "cell_type": "markdown",
   "metadata": {},
   "source": [
    "## Imaginary problem statement\n",
    "\n",
    "McDonald's receives **thousands of customer comments** on their website per day, and many of them are negative. Their corporate employees don't have time to read every single comment, but they do want to read a subset of comments that they are most interested in. In particular, the media has recently portrayed their employees as being rude, and so they want to review comments about **rude service**.\n",
    "\n",
    "McDonald's has hired you to develop a system that ranks each comment by the **likelihood that it is referring to rude service**. They will use your system to build a \"rudeness dashboard\" for their corporate employees, so that employees can spend a few minutes each day examining the **most relevant recent comments**.\n",
    "\n",
    "## Description of the data\n",
    "\n",
    "Before hiring you, McDonald's used the [CrowdFlower platform](http://www.crowdflower.com/data-for-everyone) to pay humans to **hand-annotate** about 1500 comments with the **type of complaint**. The complaint types are listed below, with the encoding used in the data listed in parentheses:\n",
    "\n",
    "- Bad Food (BadFood)\n",
    "- Bad Neighborhood (ScaryMcDs)\n",
    "- Cost (Cost)\n",
    "- Dirty Location (Filthy)\n",
    "- Missing Item (MissingFood)\n",
    "- Problem with Order (OrderProblem)\n",
    "- Rude Service (RudeService)\n",
    "- Slow Service (SlowService)\n",
    "- None of the above (na)"
   ]
  },
  {
   "cell_type": "markdown",
   "metadata": {},
   "source": [
    "## Task 1\n",
    "\n",
    "Read **`mcdonalds.csv`** into a pandas DataFrame and examine it. (It can be found in the **`data`** directory of the course repository.)\n",
    "\n",
    "- The **policies_violated** column lists the type of complaint. If there is more than one type, the types are separated by newline characters.\n",
    "- The **policies_violated:confidence** column lists CrowdFlower's confidence in the judgments of its human annotators for that row (higher is better).\n",
    "- The **city** column is the McDonald's location.\n",
    "- The **review** column is the actual text comment."
   ]
  },
  {
   "cell_type": "code",
   "execution_count": 35,
   "metadata": {
    "collapsed": true
   },
   "outputs": [],
   "source": [
    "import pandas as pd\n",
    "from datetime import datetime"
   ]
  },
  {
   "cell_type": "code",
   "execution_count": 63,
   "metadata": {
    "collapsed": false
   },
   "outputs": [
    {
     "name": "stdout",
     "output_type": "stream",
     "text": [
      "    _unit_id _golden _unit_state  _trusted_judgments _last_judgment_at  \\\n",
      "0  679455653   False   finalized                   3      2/21/15 0:36   \n",
      "1  679455654   False   finalized                   3      2/21/15 0:27   \n",
      "\n",
      "                       policies_violated policies_violated:confidence  \\\n",
      "0  RudeService\\r\\nOrderProblem\\r\\nFilthy      1.0\\r\\n0.6667\\r\\n0.6667   \n",
      "1                            RudeService                            1   \n",
      "\n",
      "      city  policies_violated_gold  \\\n",
      "0  Atlanta                     NaN   \n",
      "1  Atlanta                     NaN   \n",
      "\n",
      "                                              review  Unnamed: 10  \n",
      "0  I'm not a huge mcds lover, but I've been to be...          NaN  \n",
      "1  Terrible customer service. ŒæI came in at 9:30...          NaN  \n",
      "Index                                80\n",
      "_unit_id                           6100\n",
      "_golden                            1525\n",
      "_unit_state                        1591\n",
      "_trusted_judgments                12200\n",
      "_last_judgment_at                105225\n",
      "policies_violated                105727\n",
      "policies_violated:confidence      97260\n",
      "city                               2110\n",
      "policies_violated_gold            12200\n",
      "review                          1266920\n",
      "Unnamed: 10                       12200\n",
      "dtype: int64\n",
      "(1525, 11)\n"
     ]
    }
   ],
   "source": [
    "types = dict.fromkeys(('_unit_id', '_trusted_judgements'), int)\n",
    "#types['_unit_state'] = bool\n",
    "#types['_last_judgment_at'] = datetime.strftime()\n",
    "#print(types)\n",
    "mcd = pd.read_csv('../data/mcdonalds.csv', dtype=types)\n",
    "print(mcd.head(2))\n",
    "mcd['city'] = mcd['city'].astype('category')\n",
    "mcd['_unit_state'] = mcd['_unit_state'].astype('category')\n",
    "print(mcd.memory_usage(deep = True))\n",
    "#mcd.city.value_counts()\n",
    "#print(mcd.columns)\n",
    "print(mcd.shape)"
   ]
  },
  {
   "cell_type": "markdown",
   "metadata": {},
   "source": [
    "## Task 2\n",
    "\n",
    "Remove any rows from the DataFrame in which the **policies_violated** column has a **null value**. Check the shape of the DataFrame before and after to confirm that you only removed about 50 rows.\n",
    "\n",
    "- **Note:** Null values are also known as \"missing values\", and are encoded in pandas with the special value \"NaN\". This is distinct from the \"na\" encoding used by CrowdFlower to denote \"None of the above\". Rows that contain \"na\" should **not** be removed.\n",
    "- **Hint:** [How do I handle missing values in pandas?](https://www.youtube.com/watch?v=fCMrO_VzeL8&list=PL5-da3qGB5ICCsgW1MxlZ0Hq8LL5U3u9y&index=16) explains how to do this."
   ]
  },
  {
   "cell_type": "code",
   "execution_count": 64,
   "metadata": {
    "collapsed": false
   },
   "outputs": [
    {
     "name": "stdout",
     "output_type": "stream",
     "text": [
      "(1471, 11)\n"
     ]
    }
   ],
   "source": [
    "# mcd.policies_violated.value_counts()\n",
    "mcd = mcd[~mcd.policies_violated.isnull()]\n",
    "print(mcd.shape)"
   ]
  },
  {
   "cell_type": "markdown",
   "metadata": {},
   "source": [
    "## Task 3\n",
    "\n",
    "Add a new column to the DataFrame called **\"rude\"** that is 1 if the **policies_violated** column contains the text \"RudeService\", and 0 if the **policies_violated** column does not contain \"RudeService\". The \"rude\" column is going to be your response variable, so check how many zeros and ones it contains.\n",
    "\n",
    "- **Hint:** [How do I use string methods in pandas?](https://www.youtube.com/watch?v=bofaC0IckHo&list=PL5-da3qGB5ICCsgW1MxlZ0Hq8LL5U3u9y&index=12) shows how to search for the presence of a substring, and [How do I change the data type of a pandas Series?](https://www.youtube.com/watch?v=V0AWyzVMf54&list=PL5-da3qGB5ICCsgW1MxlZ0Hq8LL5U3u9y&index=13) shows how to convert the boolean results (True/False) to integers (1/0)."
   ]
  },
  {
   "cell_type": "code",
   "execution_count": 262,
   "metadata": {
    "collapsed": false
   },
   "outputs": [
    {
     "data": {
      "text/plain": [
       "0    968\n",
       "1    503\n",
       "Name: policies_violated, dtype: int64"
      ]
     },
     "execution_count": 262,
     "metadata": {},
     "output_type": "execute_result"
    }
   ],
   "source": [
    "# mcd['rude'] = \n",
    "# help(mcd.policies_violated.T)\n",
    "mcd['rude'] = mcd.policies_violated.str.contains('RudeService').astype(int)\n",
    "mcd.rude.head(10)\n",
    "mcd.rude.value_counts()"
   ]
  },
  {
   "cell_type": "markdown",
   "metadata": {},
   "source": [
    "## Task 4\n",
    "\n",
    "1. Define X (the **review** column) and y (the **rude** column).\n",
    "2. Split X and y into training and testing sets (using the parameter **`random_state=1`**).\n",
    "3. Use CountVectorizer (with the **default parameters**) to create document-term matrices from X_train and X_test."
   ]
  },
  {
   "cell_type": "code",
   "execution_count": 80,
   "metadata": {
    "collapsed": false
   },
   "outputs": [
    {
     "data": {
      "text/plain": [
       "CountVectorizer(analyzer='word', binary=False, decode_error='strict',\n",
       "        dtype=<class 'numpy.int64'>, encoding='utf-8', input='content',\n",
       "        lowercase=True, max_df=1.0, max_features=None, min_df=1,\n",
       "        ngram_range=(1, 1), preprocessor=None, stop_words=None,\n",
       "        strip_accents=None, token_pattern='(?u)\\\\b\\\\w\\\\w+\\\\b',\n",
       "        tokenizer=None, vocabulary=None)"
      ]
     },
     "execution_count": 80,
     "metadata": {},
     "output_type": "execute_result"
    }
   ],
   "source": [
    "from sklearn.cross_validation import train_test_split\n",
    "from sklearn.feature_extraction.text import CountVectorizer\n",
    "\n",
    "X = mcd.review\n",
    "y = mcd.rude\n",
    "\n",
    "X_train, X_test, Y_train, Y_test = train_test_split(X, y, random_state = 1)\n",
    "X_train.shape, X_test.shape, Y_train.shape"
   ]
  },
  {
   "cell_type": "code",
   "execution_count": 89,
   "metadata": {
    "collapsed": false
   },
   "outputs": [
    {
     "name": "stdout",
     "output_type": "stream",
     "text": [
      "(1103, 7300)\n",
      "(368, 7300)\n"
     ]
    }
   ],
   "source": [
    "vect = CountVectorizer()\n",
    "dtm = vect.fit_transform(X_train)\n",
    "print(dtm.shape)\n",
    "# dtm.toarray\n",
    "dtm_test = vect.transform(X_test)\n",
    "print(dtm_test.shape)"
   ]
  },
  {
   "cell_type": "markdown",
   "metadata": {},
   "source": [
    "## Task 5\n",
    "\n",
    "Fit a Multinomial Naive Bayes model to the training set, calculate the **predicted probabilites** (not the class predictions) for the testing set, and then calculate the **AUC**. Repeat this task using a logistic regression model to see which of the two models achieves a better AUC.\n",
    "\n",
    "- **Note:** Because McDonald's only cares about ranking the comments by the likelihood that they refer to rude service, **classification accuracy** is not the relevant evaluation metric. **Area Under the Curve (AUC)** is a more useful evaluation metric for this scenario, since it measures the ability of the classifier to assign higher predicted probabilities to positive instances than to negative instances.\n",
    "\n",
    "- **Hint:** [Evaluating a classification model](https://github.com/justmarkham/scikit-learn-videos/blob/master/09_classification_metrics.ipynb) explains how to calculate predicted probabilities and AUC, and my [blog post and video](http://www.dataschool.io/roc-curves-and-auc-explained/) explain AUC in-depth."
   ]
  },
  {
   "cell_type": "code",
   "execution_count": 90,
   "metadata": {
    "collapsed": false
   },
   "outputs": [
    {
     "data": {
      "text/plain": [
       "MultinomialNB(alpha=1.0, class_prior=None, fit_prior=True)"
      ]
     },
     "execution_count": 90,
     "metadata": {},
     "output_type": "execute_result"
    }
   ],
   "source": [
    "from sklearn.naive_bayes import MultinomialNB\n",
    "nb = MultinomialNB()\n",
    "nb.fit(dtm, Y_train)"
   ]
  },
  {
   "cell_type": "code",
   "execution_count": 115,
   "metadata": {
    "collapsed": false
   },
   "outputs": [
    {
     "name": "stdout",
     "output_type": "stream",
     "text": [
      "[1 0]\n",
      "[[207  26]\n",
      " [ 48  87]]\n",
      "accuracy score is:  0.798913043478\n",
      "[[  7.65356960e-04   9.99234643e-01]\n",
      " [  7.40757029e-01   2.59242971e-01]]\n",
      "auc score is : 0.842600540455\n"
     ]
    }
   ],
   "source": [
    "from sklearn.metrics import accuracy_score, auc, confusion_matrix, classification_report, roc_auc_score\n",
    "\n",
    "Y_pred = nb.predict(dtm_test)\n",
    "print(Y_pred[:2])\n",
    "print(confusion_matrix(Y_test, Y_pred))\n",
    "print('accuracy score is: ', accuracy_score(Y_test, Y_pred))\n",
    "\n",
    "Y_pred = nb.predict_proba(dtm_test)\n",
    "print(Y_pred[:2])\n",
    "print('auc score is :', roc_auc_score(Y_test, Y_pred[:, 1]))"
   ]
  },
  {
   "cell_type": "code",
   "execution_count": 125,
   "metadata": {
    "collapsed": false
   },
   "outputs": [
    {
     "data": {
      "text/plain": [
       "0.8233667143538389"
      ]
     },
     "execution_count": 125,
     "metadata": {},
     "output_type": "execute_result"
    }
   ],
   "source": [
    "#Auc has better score than the binary classification for naivw bayes \n",
    "\n",
    "from sklearn.linear_model import LogisticRegression\n",
    "logreg = LogisticRegression()\n",
    "logreg.fit(dtm, Y_train)\n",
    "Y_pred_logreg = logreg.predict(dtm_test)\n",
    "accuracy_score(Y_test, Y_pred_logreg)\n",
    "roc_auc_score(Y_test, logreg.predict_proba(dtm_test)[:, 1])\n"
   ]
  },
  {
   "cell_type": "code",
   "execution_count": null,
   "metadata": {
    "collapsed": true
   },
   "outputs": [],
   "source": [
    "#NB has the better prediction"
   ]
  },
  {
   "cell_type": "markdown",
   "metadata": {},
   "source": [
    "## Task 6\n",
    "\n",
    "Using either Naive Bayes or logistic regression (whichever one had a better AUC in the previous step), try **tuning CountVectorizer** using some of the techniques we learned in class. Check the testing set **AUC** after each change, and find the set of parameters that increases AUC the most.\n",
    "\n",
    "- **Hint:** It is highly recommended that you adapt the **`tokenize_test()`** function from class for this purpose, since it will allow you to iterate quickly through different sets of parameters."
   ]
  },
  {
   "cell_type": "code",
   "execution_count": 302,
   "metadata": {
    "collapsed": false
   },
   "outputs": [],
   "source": [
    "def tokenize_test(vect, y_train = Y_train, y_test = Y_test):\n",
    "    #fit the input data X and Y\n",
    "    dtm_train = vect.fit_transform(X_train)\n",
    "    dtm_test = vect.transform(X_test)\n",
    "    print('CountVectorizer is: ', vect)\n",
    "    #print('Stop words given to the model are: ', vect.get_stop_words())\n",
    "    print('Stop words derived from the model are: ', vect.stop_words_)\n",
    "    print('dtm shape is: ', dtm_train.shape)\n",
    "    \n",
    "    #use naive bayes for model predictions\n",
    "    nb = MultinomialNB()\n",
    "    nb.fit(dtm_train, y_train)\n",
    "    \n",
    "    #predict now\n",
    "    y_class = nb.predict(dtm_test)\n",
    "    \n",
    "    y_tuple = (y_test, y_class)\n",
    "    print('accuracy of the model is : ', accuracy_score(*y_tuple))\n",
    "    print('confusion matrix is: \\n', confusion_matrix(*y_tuple))\n",
    "    \n",
    "    y_prob = nb.predict_proba(dtm_test)[:,1]\n",
    "    print('auc score is: \\n', roc_auc_score(y_test, y_prob))\n",
    "    return vect\n",
    "\n",
    "# tokenize_test(CountVectorizer())"
   ]
  },
  {
   "cell_type": "code",
   "execution_count": 155,
   "metadata": {
    "collapsed": false
   },
   "outputs": [
    {
     "name": "stdout",
     "output_type": "stream",
     "text": [
      "CountVectorizer is:  CountVectorizer(analyzer='word', binary=False, decode_error='strict',\n",
      "        dtype=<class 'numpy.int64'>, encoding='utf-8', input='content',\n",
      "        lowercase=True, max_df=1.0, max_features=None, min_df=1,\n",
      "        ngram_range=(1, 1), preprocessor=None, stop_words=None,\n",
      "        strip_accents=None, token_pattern='(?u)\\\\b\\\\w\\\\w+\\\\b',\n",
      "        tokenizer=None, vocabulary=None)\n",
      "Stop words given to the model are:  None\n",
      "Stop words derived from the model are:  set()\n",
      "dtm shape is:  (1103, 7300)\n",
      "accuracy of the model is :  0.798913043478\n",
      "confusion matrix is: \n",
      " [[207  26]\n",
      " [ 48  87]]\n",
      "auc score is: \n",
      " 0.842600540455\n"
     ]
    }
   ],
   "source": [
    "#approach 1\n",
    "tokenize_test(CountVectorizer())"
   ]
  },
  {
   "cell_type": "code",
   "execution_count": 141,
   "metadata": {
    "collapsed": false
   },
   "outputs": [
    {
     "name": "stdout",
     "output_type": "stream",
     "text": [
      "CountVectorizer is:  CountVectorizer(analyzer='word', binary=False, decode_error='strict',\n",
      "        dtype=<class 'numpy.int64'>, encoding='utf-8', input='content',\n",
      "        lowercase=True, max_df=1.0, max_features=5000, min_df=1,\n",
      "        ngram_range=(1, 1), preprocessor=None, stop_words=None,\n",
      "        strip_accents=None, token_pattern='(?u)\\\\b\\\\w\\\\w+\\\\b',\n",
      "        tokenizer=None, vocabulary=None)\n",
      "dtm shape is:  (1103, 5000)\n",
      "accuracy of the model is :  0.788043478261\n",
      "confusion matrix is: \n",
      " [[203  30]\n",
      " [ 48  87]]\n",
      "auc score is: \n",
      " 0.840263869019\n"
     ]
    }
   ],
   "source": [
    "#Lets reduce features since we have 7300 features\n",
    "tokenize_test(CountVectorizer(max_features=5000))"
   ]
  },
  {
   "cell_type": "code",
   "execution_count": 151,
   "metadata": {
    "collapsed": false
   },
   "outputs": [
    {
     "name": "stdout",
     "output_type": "stream",
     "text": [
      "CountVectorizer is:  CountVectorizer(analyzer='word', binary=False, decode_error='strict',\n",
      "        dtype=<class 'numpy.int64'>, encoding='utf-8', input='content',\n",
      "        lowercase=True, max_df=200, max_features=None, min_df=0,\n",
      "        ngram_range=(1, 1), preprocessor=None, stop_words=None,\n",
      "        strip_accents=None, token_pattern='(?u)\\\\b\\\\w\\\\w+\\\\b',\n",
      "        tokenizer=None, vocabulary=None)\n",
      "dtm shape is:  (1103, 7239)\n",
      "accuracy of the model is :  0.798913043478\n",
      "confusion matrix is: \n",
      " [[203  30]\n",
      " [ 44  91]]\n",
      "auc score is: \n",
      " 0.848307105389\n"
     ]
    }
   ],
   "source": [
    "#Lets use df_max\n",
    "tokenize_test(CountVectorizer(min_df=0, max_df=200))"
   ]
  },
  {
   "cell_type": "code",
   "execution_count": 153,
   "metadata": {
    "collapsed": false
   },
   "outputs": [
    {
     "name": "stdout",
     "output_type": "stream",
     "text": [
      "CountVectorizer is:  CountVectorizer(analyzer='word', binary=False, decode_error='strict',\n",
      "        dtype=<class 'numpy.int64'>, encoding='utf-8', input='content',\n",
      "        lowercase=True, max_df=200, max_features=None, min_df=0,\n",
      "        ngram_range=(1, 1), preprocessor=None, stop_words=None,\n",
      "        strip_accents=None, token_pattern='(?u)\\\\b\\\\w\\\\w+\\\\b',\n",
      "        tokenizer=None, vocabulary=None)\n",
      "Stop words are:  {'like', 'about', 'that', 'to', 'can', 'get', 'time', 'so', 'me', 'thru', 'be', 'order', 'don', 'just', 'is', 'drive', 'no', 'and', 'out', 'food', 'have', 'they', 'here', 'if', 'not', 'or', 'what', 'are', 'up', 'been', 'when', 'mcdonalds', 'it', 'go', 'your', 'my', 'location', 'were', 'all', 'an', 'on', 'one', 'at', 'you', 'had', 'in', 'with', 'service', 'only', 'because', 'mcdonald', 'for', 'the', 'there', 'was', 'as', 'but', 'of', 'this', 'place', 'from'}\n",
      "dtm shape is:  (1103, 7239)\n",
      "accuracy of the model is :  0.798913043478\n",
      "confusion matrix is: \n",
      " [[203  30]\n",
      " [ 44  91]]\n",
      "auc score is: \n",
      " 0.848307105389\n"
     ]
    }
   ],
   "source": [
    "#score has improved; let see if can use stop_words\n",
    "tokenize_test(CountVectorizer(min_df=0, max_df=200))"
   ]
  },
  {
   "cell_type": "code",
   "execution_count": 158,
   "metadata": {
    "collapsed": false
   },
   "outputs": [
    {
     "name": "stdout",
     "output_type": "stream",
     "text": [
      "CountVectorizer is:  CountVectorizer(analyzer='word', binary=False, decode_error='strict',\n",
      "        dtype=<class 'numpy.int64'>, encoding='utf-8', input='content',\n",
      "        lowercase=True, max_df=200, max_features=None, min_df=0,\n",
      "        ngram_range=(1, 1), preprocessor=None, stop_words='english',\n",
      "        strip_accents=None, token_pattern='(?u)\\\\b\\\\w\\\\w+\\\\b',\n",
      "        tokenizer=None, vocabulary=None)\n",
      "Stop words derived from the model are:  {'just', 'like', 'don', 'drive', 'food', 'mcdonald', 'mcdonalds', 'location', 'time', 'order', 'place', 'service'}\n",
      "dtm shape is:  (1103, 7008)\n",
      "accuracy of the model is :  0.796195652174\n",
      "confusion matrix is: \n",
      " [[202  31]\n",
      " [ 44  91]]\n",
      "auc score is: \n",
      " 0.853012239708\n"
     ]
    }
   ],
   "source": [
    "#score has improved; let see if can use stop_words\n",
    "tokenize_test(CountVectorizer(min_df=0, max_df=200, stop_words='english'))"
   ]
  },
  {
   "cell_type": "code",
   "execution_count": 163,
   "metadata": {
    "collapsed": false
   },
   "outputs": [
    {
     "name": "stdout",
     "output_type": "stream",
     "text": [
      "CountVectorizer is:  CountVectorizer(analyzer='word', binary=False, decode_error='strict',\n",
      "        dtype=<class 'numpy.int64'>, encoding='utf-8', input='content',\n",
      "        lowercase=False, max_df=200, max_features=None, min_df=0,\n",
      "        ngram_range=(1, 1), preprocessor=None, stop_words='english',\n",
      "        strip_accents=None, token_pattern='(?u)\\\\b\\\\w\\\\w+\\\\b',\n",
      "        tokenizer=None, vocabulary=None)\n",
      "Stop words derived from the model are:  {'just', 'drive', 'like', 'don', 'The', 'food', 'location', 'McDonald', 'time', 'McDonalds', 'order', 'This', 'place', 'service'}\n",
      "dtm shape is:  (1103, 8450)\n",
      "accuracy of the model is :  0.815217391304\n",
      "confusion matrix is: \n",
      " [[207  26]\n",
      " [ 42  93]]\n",
      "auc score is: \n",
      " 0.854029566047\n"
     ]
    }
   ],
   "source": [
    "#score has improved; let see if can use stop_words\n",
    "tokenize_test(CountVectorizer(min_df=0, max_df=200, stop_words='english', lowercase=False, ngram_range=(1,1)))"
   ]
  },
  {
   "cell_type": "code",
   "execution_count": 164,
   "metadata": {
    "collapsed": false
   },
   "outputs": [
    {
     "name": "stdout",
     "output_type": "stream",
     "text": [
      "CountVectorizer is:  CountVectorizer(analyzer='word', binary=False, decode_error='strict',\n",
      "        dtype=<class 'numpy.int64'>, encoding='utf-8', input='content',\n",
      "        lowercase=False, max_df=200, max_features=None, min_df=0,\n",
      "        ngram_range=(1, 2), preprocessor=None, stop_words='english',\n",
      "        strip_accents=None, token_pattern='(?u)\\\\b\\\\w\\\\w+\\\\b',\n",
      "        tokenizer=None, vocabulary=None)\n",
      "Stop words derived from the model are:  {'just', 'drive', 'like', 'The', 'food', 'location', 'order', 'McDonald', 'time', 'service', 'don', 'This', 'place', 'McDonalds'}\n",
      "dtm shape is:  (1103, 49888)\n",
      "accuracy of the model is :  0.777173913043\n",
      "confusion matrix is: \n",
      " [[215  18]\n",
      " [ 64  71]]\n",
      "auc score is: \n",
      " 0.831537116516\n"
     ]
    }
   ],
   "source": [
    "#score has improved; let see if can use stop_words\n",
    "tokenize_test(CountVectorizer(min_df=0, max_df=200, stop_words='english', lowercase=False, ngram_range=(1,2)))"
   ]
  },
  {
   "cell_type": "code",
   "execution_count": 173,
   "metadata": {
    "collapsed": true
   },
   "outputs": [],
   "source": [
    "#Best model has these parameters set max_df=200, stop_words='english', lowercase=False\n",
    "best_model = CountVectorizer(max_df=200, stop_words='english', lowercase=False)"
   ]
  },
  {
   "cell_type": "markdown",
   "metadata": {},
   "source": [
    "## Task 7 (Challenge)\n",
    "\n",
    "The **city** column might be predictive of the response, but we are not currently using it as a feature. Let's see whether we can increase the AUC by adding it to the model:\n",
    "\n",
    "1. Create a new DataFrame column, **review_city**, that concatenates the **review** text with the **city** text. One easy way to combine string columns in pandas is by using the [`Series.str.cat()`](http://pandas.pydata.org/pandas-docs/stable/generated/pandas.Series.str.cat.html) method. Make sure to use the **space character** as a separator, as well as replacing **null city values** with a reasonable string value (such as 'na').\n",
    "2. Redefine X as the **review_city** column, and re-split X and y into training and testing sets.\n",
    "3. When you run **`tokenize_test()`**, CountVectorizer will simply treat the city as an extra word in the review, and thus it will automatically be included in the model! Check to see whether it increased or decreased the AUC of your **best model**."
   ]
  },
  {
   "cell_type": "code",
   "execution_count": 220,
   "metadata": {
    "collapsed": false
   },
   "outputs": [
    {
     "name": "stdout",
     "output_type": "stream",
     "text": [
      "Terrible customer service. ŒæI came in at 9:30pm and stood in front of the register and no one bothered to say anything or help me for 5 minutes. ŒæThere was no one else waiting for their food inside either, just outside at the window. Œæ I left and went to Chickfila next door and was greeted before I was all the way inside. This McDonalds is also dirty, the floor was covered with dropped food. Obviously filled with surly and unhappy workers. Atlanta\n",
      "CountVectorizer is:  CountVectorizer(analyzer='word', binary=False, decode_error='strict',\n",
      "        dtype=<class 'numpy.int64'>, encoding='utf-8', input='content',\n",
      "        lowercase=False, max_df=200, max_features=None, min_df=1,\n",
      "        ngram_range=(1, 1), preprocessor=None, stop_words='english',\n",
      "        strip_accents=None, token_pattern='(?u)\\\\b\\\\w\\\\w+\\\\b',\n",
      "        tokenizer=None, vocabulary=None)\n",
      "Stop words derived from the model are:  {'This', 'just', 'drive', 'like', 'Vegas', 'The', 'don', 'food', 'location', 'McDonald', 'time', 'McDonalds', 'order', 'Las', 'place', 'service'}\n",
      "dtm shape is:  (1103, 8450)\n",
      "accuracy of the model is :  0.804347826087\n",
      "confusion matrix is: \n",
      " [[209  24]\n",
      " [ 48  87]]\n",
      "auc score is: \n",
      " 0.854824352249\n"
     ]
    },
    {
     "data": {
      "text/plain": [
       "'Ran in for a quick breakfast. Ordered the petite pastries and found a red hair stuck on one of my pastries. Disgusting. Beware! '"
      ]
     },
     "execution_count": 220,
     "metadata": {},
     "output_type": "execute_result"
    }
   ],
   "source": [
    "mcd['review_city'] = mcd.review.str.cat(mcd.city, sep=' ', na_rep='')\n",
    "print(mcd.review_city[1])\n",
    "\n",
    "X_train, X_test, Y_train, Y_test = train_test_split(mcd['review_city'], mcd.rude, random_state=1)\n",
    "X_train.shape, X_test.shape\n",
    "\n",
    "mcd.shape\n",
    "tokenize_test(best_model)\n",
    "X_train.isnull()\n",
    "mcd.columns\n",
    "mcd.shape\n",
    "mcd.review_city.isnull().sum()\n",
    "#Qn: Why isnull() true for unicode non latin chars?\n",
    "mcd[mcd.review_city.isnull()].iloc[1].review_city"
   ]
  },
  {
   "cell_type": "code",
   "execution_count": 224,
   "metadata": {
    "collapsed": false
   },
   "outputs": [
    {
     "data": {
      "text/plain": [
       "{'Atlanta', 'Chicago', 'Cleveland', 'Dallas', 'Houston', 'Portland'}"
      ]
     },
     "execution_count": 224,
     "metadata": {},
     "output_type": "execute_result"
    }
   ],
   "source": [
    "#Making sure that city names are added as features\n",
    "set(best_model.get_feature_names()) & set(mcd.city)"
   ]
  },
  {
   "cell_type": "markdown",
   "metadata": {},
   "source": [
    "## Task 8 (Challenge)\n",
    "\n",
    "The **policies_violated:confidence** column may be useful, since it essentially represents a measurement of the training data quality. Let's see whether we can improve the AUC by only training the model using higher-quality rows!\n",
    "\n",
    "To accomplish this, your first sub-task is to **calculate the mean confidence score for each row**, and then store those mean scores in a new column. For example, the confidence scores for the first row are `1.0\\r\\n0.6667\\r\\n0.6667`, so you should calculate a mean of `0.7778`. Here are the suggested steps:\n",
    "\n",
    "1. Using the [`Series.str.split()`](http://pandas.pydata.org/pandas-docs/stable/generated/pandas.Series.str.split.html) method, convert the **policies_violated:confidence** column into lists of one or more \"confidence scores\". Save the results as a new DataFrame column called **confidence_list**.\n",
    "2. Define a function that calculates the mean of a list of numbers, and pass that function to the [`Series.apply()`](http://pandas.pydata.org/pandas-docs/stable/generated/pandas.Series.apply.html) method of the **confidence_list** column. That will calculate the mean confidence score for each row. Save those scores in a new DataFrame column called **confidence_mean**.\n",
    "    - **Hint:** [How do I apply a function to a pandas Series or DataFrame?](https://www.youtube.com/watch?v=P_q0tkYqvSk&list=PL5-da3qGB5ICCsgW1MxlZ0Hq8LL5U3u9y&index=30) explains how to use the `Series.apply()` method."
   ]
  },
  {
   "cell_type": "code",
   "execution_count": 243,
   "metadata": {
    "collapsed": false
   },
   "outputs": [
    {
     "data": {
      "text/plain": [
       "0.7778"
      ]
     },
     "execution_count": 243,
     "metadata": {},
     "output_type": "execute_result"
    }
   ],
   "source": [
    "def find_mean(s):\n",
    "    if isinstance(s, str):\n",
    "        l = [float(x) for x in s.split(sep=\"\\r\\n\")]\n",
    "        return sum(l)/len(l)\n",
    "    else:\n",
    "        return 0\n",
    "find_mean(mcd['policies_violated:confidence'].iloc[0])"
   ]
  },
  {
   "cell_type": "code",
   "execution_count": 292,
   "metadata": {
    "collapsed": false
   },
   "outputs": [
    {
     "data": {
      "text/plain": [
       "(0    1.0\\r\\n0.6667\\r\\n0.6667\n",
       " 1                          1\n",
       " 2                 1.0\\r\\n1.0\n",
       " 3                     0.6667\n",
       " Name: policies_violated:confidence, dtype: object, 0    0.7778\n",
       " 1    1.0000\n",
       " 2    1.0000\n",
       " 3    0.6667\n",
       " Name: confidence_mean, dtype: float64)"
      ]
     },
     "execution_count": 292,
     "metadata": {},
     "output_type": "execute_result"
    }
   ],
   "source": [
    "mcd['confidence_mean'] = mcd['policies_violated:confidence'].apply(find_mean)\n",
    "mcd['policies_violated:confidence'].head(4), mcd['confidence_mean'].head(4)"
   ]
  },
  {
   "cell_type": "markdown",
   "metadata": {},
   "source": [
    "Your second sub-task is to **remove lower-quality rows from the training set**, and then repeat the model building and evaluation process. Here are the suggested steps:\n",
    "\n",
    "1. Remove all rows from X_train and y_train that have a **confidence_mean lower than 0.75**. Check their shapes before and after to confirm that you removed about 300 rows.\n",
    "2. Use the **`tokenize_test()`** function to check whether filtering the training data increased or decreased the AUC of your **best model**.\n",
    "    - **Hint:** Even though X_train and y_train are separate from the mcd DataFrame, they can still be filtered using a boolean Series generated from mcd because all three objects share the same index.\n",
    "    - **Note:** It's important that we don't remove any rows from the testing set (X_test and y_test), because the testing set should be representative of the real-world data we will encounter in the future (which will contain both high-quality and low-quality rows)."
   ]
  },
  {
   "cell_type": "markdown",
   "metadata": {},
   "source": [
    "#I didnt see note #2\n",
    "(mcd['confidence_mean'] > 0.75).sum()\n",
    "X = mcd[mcd['confidence_mean'] > 0.75]['review_city']\n",
    "y = mcd[mcd['confidence_mean'] > 0.75]['rude']\n",
    "X.shape, y.shape\n",
    "X_train, X_test, Y_train, Y_test = train_test_split(X, y, random_state=1)\n",
    "X = mcd[mcd['confidence_mean'] > 0.75]['review_city']\n",
    "y = mcd[mcd['confidence_mean'] > 0.75]['rude']\n",
    "tokenize_test(best_model)\n",
    "X_train.shape, X_test.shape"
   ]
  },
  {
   "cell_type": "code",
   "execution_count": 303,
   "metadata": {
    "collapsed": false
   },
   "outputs": [
    {
     "name": "stdout",
     "output_type": "stream",
     "text": [
      "CountVectorizer is:  CountVectorizer(analyzer='word', binary=False, decode_error='strict',\n",
      "        dtype=<class 'numpy.int64'>, encoding='utf-8', input='content',\n",
      "        lowercase=False, max_df=200, max_features=None, min_df=1,\n",
      "        ngram_range=(1, 1), preprocessor=None, stop_words='english',\n",
      "        strip_accents=None, token_pattern='(?u)\\\\b\\\\w\\\\w+\\\\b',\n",
      "        tokenizer=None, vocabulary=None)\n",
      "Stop words derived from the model are:  {'drive', 'Vegas', 'The', 'food', 'McDonald', 'time', 'Las', 'order', 'service'}\n",
      "dtm shape is:  (799, 6679)\n",
      "accuracy of the model is :  0.788043478261\n",
      "confusion matrix is: \n",
      " [[199  34]\n",
      " [ 44  91]]\n",
      "auc score is: \n",
      " 0.841297091082\n"
     ]
    },
    {
     "data": {
      "text/plain": [
       "((799,), (368,), (799,))"
      ]
     },
     "execution_count": 303,
     "metadata": {},
     "output_type": "execute_result"
    }
   ],
   "source": [
    "filter_series = mcd['confidence_mean'] > 0.75\n",
    "X = mcd['review_city']\n",
    "y = mcd['rude']\n",
    "X.shape, y.shape\n",
    "X_train, X_test, Y_train, Y_test = train_test_split(X, y, random_state=1)\n",
    "X_train = X_train[filter_series]\n",
    "Y_train = Y_train[filter_series]\n",
    "\n",
    "tokenize_test(best_model)\n",
    "X_train.shape, X_test.shape, Y_train.shape\n"
   ]
  },
  {
   "cell_type": "code",
   "execution_count": 282,
   "metadata": {
    "collapsed": false
   },
   "outputs": [
    {
     "data": {
      "text/plain": [
       "Int64Index([   0,    1,    2,    4,    8,    9,   10,   11,   13,   14,\n",
       "            ...\n",
       "            1510, 1511, 1513, 1515, 1516, 1517, 1518, 1519, 1521, 1524],\n",
       "           dtype='int64', length=1067)"
      ]
     },
     "execution_count": 282,
     "metadata": {},
     "output_type": "execute_result"
    }
   ],
   "source": [
    "filter_series.head()\n",
    "Y_train.index"
   ]
  },
  {
   "cell_type": "markdown",
   "metadata": {},
   "source": [
    "## Task 9 (Challenge)\n",
    "\n",
    "New comments have been submitted to the McDonald's website, and you need to **score them with the likelihood** that they are referring to rude service.\n",
    "\n",
    "1. Before making predictions on out-of-sample data, it is important to re-train your model on all relevant data using the tuning parameters and preprocessing steps that produced the best AUC above.\n",
    "    - In other words, X should be defined using either **all rows** or **only those rows with a confidence_mean of at least 0.75**, whichever produced a better AUC above.\n",
    "    - X should refer to either the **review column** or the **review_city column**, whichever produced a better AUC above.\n",
    "    - CountVectorizer should be instantiated with the **tuning parameters** that produced the best AUC above.\n",
    "    - **`train_test_split()`** should not be used during this process.\n",
    "2. Build a document-term matrix (from X) called **X_dtm**, and examine its shape.\n",
    "3. Read the new comments stored in **`mcdonalds_new.csv`** into a DataFrame called **new_comments**, and examine it.\n",
    "4. If your model uses a **review_city** column, create that column in the new_comments DataFrame. (Otherwise, skip this step.)\n",
    "5. Build a document_term matrix (from the **new_comments** DataFrame) called **new_dtm**, and examine its shape.\n",
    "6. Train your best model (Naive Bayes or logistic regression) using **X_dtm** and **y**.\n",
    "7. Predict the \"rude probability\" for each comment in **new_dtm**, and store the probabilities in an object called **new_pred_prob**.\n",
    "8. Print the **full text** for each new comment alongside its **\"rude probability\"**. (You may need to [increase the max_colwidth](https://www.youtube.com/watch?v=yiO43TQ4xvc&list=PL5-da3qGB5ICCsgW1MxlZ0Hq8LL5U3u9y&index=28) to see the full text.) Examine the results, and comment on how well you think the model performed!"
   ]
  },
  {
   "cell_type": "code",
   "execution_count": 320,
   "metadata": {
    "collapsed": false
   },
   "outputs": [],
   "source": [
    "#Best prediction I got was from Task 7 \n",
    "#no need to use confidence_mean \n",
    "X = mcd['review_city']\n",
    "X.shape\n",
    "new_best_model = CountVectorizer(max_df=200, stop_words='english', lowercase=False, decode_error='ignore')\n",
    "X_dtm = new_best_model.fit_transform(X)"
   ]
  },
  {
   "cell_type": "code",
   "execution_count": 323,
   "metadata": {
    "collapsed": false
   },
   "outputs": [],
   "source": [
    "new_comments = pd.read_csv('../data/mcdonalds_new.csv')\n",
    "new_comments['review_city'] = new_comments['review'].str.cat(new_comments['city'], sep=' ', na_rep='')\n",
    "new_comments.iloc[0].review_city\n",
    "new_dtm = new_best_model.transform(new_comments['review_city'])"
   ]
  },
  {
   "cell_type": "code",
   "execution_count": 341,
   "metadata": {
    "collapsed": false
   },
   "outputs": [],
   "source": [
    "nb = MultinomialNB()\n",
    "nb.fit(X_dtm, mcd['rude'])\n",
    "new_comments['rude probability'] = nb.predict_proba(new_dtm)[:,1]\n",
    "new_comments['rude class'] = nb.predict(new_dtm)\n"
   ]
  },
  {
   "cell_type": "code",
   "execution_count": 342,
   "metadata": {
    "collapsed": false
   },
   "outputs": [
    {
     "data": {
      "text/html": [
       "<div>\n",
       "<table border=\"1\" class=\"dataframe\">\n",
       "  <thead>\n",
       "    <tr style=\"text-align: right;\">\n",
       "      <th></th>\n",
       "      <th>review_city</th>\n",
       "      <th>rude probability</th>\n",
       "      <th>rude class</th>\n",
       "    </tr>\n",
       "  </thead>\n",
       "  <tbody>\n",
       "    <tr>\n",
       "      <th>7</th>\n",
       "      <td>My friend and I stopped in to get a late night snack and we were refused service. The store claimed to be 24 hours and the manager was standing right there doing paper work but would not help us. The cashier was only concerned with doing things for the drive thru and said that the manager said he wasn't allowed to help us. We thought it was a joke at first but when realized it wasn't we said goodbye and they just let us leave. I work in a restaurant and this is by far the worst service I have ever seen. I know it was late and maybe they didn't want to be there but it was completely ridiculous. I think the manager should be fired. Dallas</td>\n",
       "      <td>0.999055</td>\n",
       "      <td>1</td>\n",
       "    </tr>\n",
       "    <tr>\n",
       "      <th>0</th>\n",
       "      <td>Went through the drive through and ordered a #10 (cripsy sweet chili chicken wrap) without fries- the lady couldn't understand that I did not want fries and charged me for them anyways. I got the wrong order- a chicken sandwich and a large fries- my boyfriend took it back inside to get the correct order. The gentleman that ordered the chicken sandwich was standing there as well and she took the bag from my bf- glanced at the insides and handed it to the man without even offering to replace. I mean with all the scares about viruses going around... ugh DISGUSTING SERVICE. Then when she gave him the correct order my wrap not only had the sweet chili sauce on it, but the nasty (just not my first choice) ranch dressing on it!!!! I mean seriously... how lazy can you get!!!! I worked at McDonalds in Texas when I was 17 for about 8 months and I guess I was spoiled with good management. This was absolutely ridiculous. I was beyond disappointed. Las Vegas</td>\n",
       "      <td>0.996180</td>\n",
       "      <td>1</td>\n",
       "    </tr>\n",
       "    <tr>\n",
       "      <th>8</th>\n",
       "      <td>Friendly people but completely unable to deliver what was ordered at the drive through.  Out of my last 6 orders they got it right 3 times.  Incidentally, the billing was always correct - they just could not read the order and deliver.  Very frustrating! Cleveland</td>\n",
       "      <td>0.927406</td>\n",
       "      <td>1</td>\n",
       "    </tr>\n",
       "    <tr>\n",
       "      <th>2</th>\n",
       "      <td>Ghetto lady helped me at the drive thru. Very rude and disrespectful to the co workers. Never coming back. Yuck! Los Angeles</td>\n",
       "      <td>0.793097</td>\n",
       "      <td>1</td>\n",
       "    </tr>\n",
       "    <tr>\n",
       "      <th>4</th>\n",
       "      <td>I've made at least 3 visits to this particular location just because it's right next to my office building.. and all my experience have been consistently bad.  There are a few helpers taking your orders throughout the drive-thru route and they are the worst. They rush you in placing an order and gets impatient once the order gets a tad bit complicated.  Don't even bother changing your mind oh NO! They will glare at you and snap at you if you want to change something.  I understand its FAST food, but I want my order placed right.  Not going back if I can help it. Portland</td>\n",
       "      <td>0.601795</td>\n",
       "      <td>1</td>\n",
       "    </tr>\n",
       "    <tr>\n",
       "      <th>3</th>\n",
       "      <td>Close to my workplace. It was well manged before. Now it's OK. The parking can be tight sometimes. Like all McDonald's, prices are getting expensive. New York</td>\n",
       "      <td>0.086283</td>\n",
       "      <td>0</td>\n",
       "    </tr>\n",
       "    <tr>\n",
       "      <th>5</th>\n",
       "      <td>Why did I revisited this McDonald's  again.  I needed to use the restroom  facilities  and the women's bathroom didn't have soap, the floor was wet,  the bathroom stink, and the toilets were nasty. This McDonald's is very nasty. Houston</td>\n",
       "      <td>0.054683</td>\n",
       "      <td>0</td>\n",
       "    </tr>\n",
       "    <tr>\n",
       "      <th>1</th>\n",
       "      <td>Phenomenal experience. Efficient and friendly staff. Clean restrooms, good, fast service and bilingual staff. One of the best restaurants in the chain. Chicago</td>\n",
       "      <td>0.046464</td>\n",
       "      <td>0</td>\n",
       "    </tr>\n",
       "    <tr>\n",
       "      <th>6</th>\n",
       "      <td>This specific McDonald's is the bar I hold all other fast food joints to now. Been working in this area for 3 years now and gone to this location many times for drive-through pickup. Service is always fast, food comes out right, and the staff is extremely warm and polite. Atlanta</td>\n",
       "      <td>0.017995</td>\n",
       "      <td>0</td>\n",
       "    </tr>\n",
       "    <tr>\n",
       "      <th>9</th>\n",
       "      <td>Having visited many McDonald's over the years, I have to say that this one is the most efficient one ever! Even though it is still fast food, the service at the drive-thru is the best. They rarely make a mistake and I never see anyone parked in the drive-thru slots where they bring food out because they don't have it ready. So, if you like McDonald's fast food, it doesn't get any better than this.</td>\n",
       "      <td>0.007530</td>\n",
       "      <td>0</td>\n",
       "    </tr>\n",
       "  </tbody>\n",
       "</table>\n",
       "</div>"
      ],
      "text/plain": [
       "                                                                                                                                                                                                                                                                                                                                                                                                                                                                                                                                                                                                                                                                                                                                                                                                                                                                                                                                                                                       review_city  \\\n",
       "7                                                                                                                                                                                                                                                                                                                             My friend and I stopped in to get a late night snack and we were refused service. The store claimed to be 24 hours and the manager was standing right there doing paper work but would not help us. The cashier was only concerned with doing things for the drive thru and said that the manager said he wasn't allowed to help us. We thought it was a joke at first but when realized it wasn't we said goodbye and they just let us leave. I work in a restaurant and this is by far the worst service I have ever seen. I know it was late and maybe they didn't want to be there but it was completely ridiculous. I think the manager should be fired. Dallas   \n",
       "0  Went through the drive through and ordered a #10 (cripsy sweet chili chicken wrap) without fries- the lady couldn't understand that I did not want fries and charged me for them anyways. I got the wrong order- a chicken sandwich and a large fries- my boyfriend took it back inside to get the correct order. The gentleman that ordered the chicken sandwich was standing there as well and she took the bag from my bf- glanced at the insides and handed it to the man without even offering to replace. I mean with all the scares about viruses going around... ugh DISGUSTING SERVICE. Then when she gave him the correct order my wrap not only had the sweet chili sauce on it, but the nasty (just not my first choice) ranch dressing on it!!!! I mean seriously... how lazy can you get!!!! I worked at McDonalds in Texas when I was 17 for about 8 months and I guess I was spoiled with good management. This was absolutely ridiculous. I was beyond disappointed. Las Vegas   \n",
       "8                                                                                                                                                                                                                                                                                                                                                                                                                                                                                                                                                                                                                                                                                                                         Friendly people but completely unable to deliver what was ordered at the drive through.  Out of my last 6 orders they got it right 3 times.  Incidentally, the billing was always correct - they just could not read the order and deliver.  Very frustrating! Cleveland   \n",
       "2                                                                                                                                                                                                                                                                                                                                                                                                                                                                                                                                                                                                                                                                                                                                                                                                                                                                     Ghetto lady helped me at the drive thru. Very rude and disrespectful to the co workers. Never coming back. Yuck! Los Angeles   \n",
       "4                                                                                                                                                                                                                                                                                                                                                                                                I've made at least 3 visits to this particular location just because it's right next to my office building.. and all my experience have been consistently bad.  There are a few helpers taking your orders throughout the drive-thru route and they are the worst. They rush you in placing an order and gets impatient once the order gets a tad bit complicated.  Don't even bother changing your mind oh NO! They will glare at you and snap at you if you want to change something.  I understand its FAST food, but I want my order placed right.  Not going back if I can help it. Portland   \n",
       "3                                                                                                                                                                                                                                                                                                                                                                                                                                                                                                                                                                                                                                                                                                                                                                                                                                   Close to my workplace. It was well manged before. Now it's OK. The parking can be tight sometimes. Like all McDonald's, prices are getting expensive. New York   \n",
       "5                                                                                                                                                                                                                                                                                                                                                                                                                                                                                                                                                                                                                                                                                                                                                     Why did I revisited this McDonald's  again.  I needed to use the restroom  facilities  and the women's bathroom didn't have soap, the floor was wet,  the bathroom stink, and the toilets were nasty. This McDonald's is very nasty. Houston   \n",
       "1                                                                                                                                                                                                                                                                                                                                                                                                                                                                                                                                                                                                                                                                                                                                                                                                                                  Phenomenal experience. Efficient and friendly staff. Clean restrooms, good, fast service and bilingual staff. One of the best restaurants in the chain. Chicago   \n",
       "6                                                                                                                                                                                                                                                                                                                                                                                                                                                                                                                                                                                                                                                                                                         This specific McDonald's is the bar I hold all other fast food joints to now. Been working in this area for 3 years now and gone to this location many times for drive-through pickup. Service is always fast, food comes out right, and the staff is extremely warm and polite. Atlanta   \n",
       "9                                                                                                                                                                                                                                                                                                                                                                                                                                                                                                                                                                                Having visited many McDonald's over the years, I have to say that this one is the most efficient one ever! Even though it is still fast food, the service at the drive-thru is the best. They rarely make a mistake and I never see anyone parked in the drive-thru slots where they bring food out because they don't have it ready. So, if you like McDonald's fast food, it doesn't get any better than this.    \n",
       "\n",
       "   rude probability  rude class  \n",
       "7          0.999055           1  \n",
       "0          0.996180           1  \n",
       "8          0.927406           1  \n",
       "2          0.793097           1  \n",
       "4          0.601795           1  \n",
       "3          0.086283           0  \n",
       "5          0.054683           0  \n",
       "1          0.046464           0  \n",
       "6          0.017995           0  \n",
       "9          0.007530           0  "
      ]
     },
     "execution_count": 342,
     "metadata": {},
     "output_type": "execute_result"
    }
   ],
   "source": [
    "new_comments.shape\n",
    "pd.options.display.max_colwidth = 1000\n",
    "new_comments[['review_city', 'rude probability', 'rude class']].sort_values('rude probability', ascending= False)"
   ]
  },
  {
   "cell_type": "markdown",
   "metadata": {},
   "source": [
    "I have a FP in 8. All others look fine.\n",
    "Any thoughts why  I got this error?\n",
    "How can I find the weights for each of the features?"
   ]
  }
 ],
 "metadata": {
  "kernelspec": {
   "display_name": "Python 3",
   "language": "python",
   "name": "python3"
  },
  "language_info": {
   "codemirror_mode": {
    "name": "ipython",
    "version": 3
   },
   "file_extension": ".py",
   "mimetype": "text/x-python",
   "name": "python",
   "nbconvert_exporter": "python",
   "pygments_lexer": "ipython3",
   "version": "3.5.1"
  }
 },
 "nbformat": 4,
 "nbformat_minor": 0
}
